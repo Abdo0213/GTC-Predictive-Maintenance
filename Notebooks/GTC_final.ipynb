{
  "cells": [
    {
      "cell_type": "markdown",
      "metadata": {
        "id": "66vJ-c88tzcZ"
      },
      "source": [
        "# Data Preparation"
      ]
    },
    {
      "cell_type": "code",
      "execution_count": 1,
      "metadata": {
        "colab": {
          "base_uri": "https://localhost:8080/"
        },
        "id": "nTOxi9ZzwVaK",
        "outputId": "829619b9-3a7a-4dd3-a465-3c4298a1fa08"
      },
      "outputs": [
        {
          "output_type": "stream",
          "name": "stdout",
          "text": [
            "Using Colab cache for faster access to the 'nasa-cmaps' dataset.\n",
            "Data source import complete.\n"
          ]
        }
      ],
      "source": [
        "# IMPORTANT: RUN THIS CELL IN ORDER TO IMPORT YOUR KAGGLE DATA SOURCES,\n",
        "# THEN FEEL FREE TO DELETE THIS CELL.\n",
        "# NOTE: THIS NOTEBOOK ENVIRONMENT DIFFERS FROM KAGGLE'S PYTHON\n",
        "# ENVIRONMENT SO THERE MAY BE MISSING LIBRARIES USED BY YOUR\n",
        "# NOTEBOOK.\n",
        "import kagglehub\n",
        "behrad3d_nasa_cmaps_path = kagglehub.dataset_download('behrad3d/nasa-cmaps')\n",
        "\n",
        "print('Data source import complete.')\n"
      ]
    },
    {
      "cell_type": "markdown",
      "metadata": {
        "id": "Xogth1p1wbZg"
      },
      "source": [
        "### Load Dataset and Define Columns"
      ]
    },
    {
      "cell_type": "code",
      "execution_count": 2,
      "metadata": {
        "_cell_guid": "b1076dfc-b9ad-4769-8c92-a6c4dae69d19",
        "_uuid": "8f2839f25d086af736a60e9eeb907d3b93b6e0e5",
        "colab": {
          "base_uri": "https://localhost:8080/"
        },
        "execution": {
          "iopub.execute_input": "2025-09-18T07:31:09.762609Z",
          "iopub.status.busy": "2025-09-18T07:31:09.761998Z",
          "iopub.status.idle": "2025-09-18T07:31:09.907641Z",
          "shell.execute_reply": "2025-09-18T07:31:09.906491Z",
          "shell.execute_reply.started": "2025-09-18T07:31:09.762574Z"
        },
        "id": "es-qbGCmwVaM",
        "outputId": "59a94bfc-8087-43f7-bcdc-ec314824d551",
        "trusted": true
      },
      "outputs": [
        {
          "output_type": "stream",
          "name": "stdout",
          "text": [
            "/kaggle/input/nasa-cmaps\n"
          ]
        }
      ],
      "source": [
        "import os\n",
        "import pandas as pd\n",
        "\n",
        "# print to confirm\n",
        "print(behrad3d_nasa_cmaps_path)\n",
        "\n",
        "# Path to CMaps folder\n",
        "cmaps_path = os.path.join(behrad3d_nasa_cmaps_path, \"CMaps\")\n",
        "\n",
        "# Define columns\n",
        "columns = [\n",
        "    \"engine_id\", \"time_in_cycles\",\n",
        "    \"op_setting_1\", \"op_setting_2\", \"op_setting_3\"\n",
        "] + [f\"sensor_{i}\" for i in range(1, 22)]\n",
        "\n",
        "# Load datasets\n",
        "\n",
        "train_df = pd.read_csv(os.path.join(cmaps_path, \"train_FD001.txt\"),\n",
        "                       sep=r\"\\s+\", header=None, names=columns, index_col=False)\n",
        "test_df = pd.read_csv(os.path.join(cmaps_path, \"test_FD001.txt\"),\n",
        "                      sep=r\"\\s+\", header=None, names=columns, index_col=False)\n",
        "rul_df = pd.read_csv(os.path.join(cmaps_path, \"RUL_FD001.txt\"),\n",
        "                     header=None, names=[\"RUL\"])\n"
      ]
    },
    {
      "cell_type": "markdown",
      "metadata": {
        "id": "nUP5fvwJuJax"
      },
      "source": [
        "###Drop columns with constant values as they provide no predictive power\n"
      ]
    },
    {
      "cell_type": "code",
      "execution_count": 3,
      "metadata": {
        "colab": {
          "base_uri": "https://localhost:8080/"
        },
        "execution": {
          "iopub.execute_input": "2025-09-18T07:31:10.162437Z",
          "iopub.status.busy": "2025-09-18T07:31:10.162077Z",
          "iopub.status.idle": "2025-09-18T07:31:10.243093Z",
          "shell.execute_reply": "2025-09-18T07:31:10.241996Z",
          "shell.execute_reply.started": "2025-09-18T07:31:10.162413Z"
        },
        "id": "q5oqaJJrwVaS",
        "outputId": "67c6560d-f2c6-4548-bf48-50647fd6864c",
        "trusted": true
      },
      "outputs": [
        {
          "output_type": "stream",
          "name": "stdout",
          "text": [
            "Columns with constant values: ['op_setting_3', 'sensor_1', 'sensor_5', 'sensor_10', 'sensor_16', 'sensor_18', 'sensor_19']\n"
          ]
        }
      ],
      "source": [
        "constant_cols = [col for col in train_df.columns if train_df[col].nunique() == 1]\n",
        "\n",
        "print(\"Columns with constant values:\", constant_cols)\n",
        "train_df.drop(constant_cols, axis=1, inplace=True, errors='ignore')\n",
        "test_df.drop(constant_cols, axis=1, inplace=True, errors='ignore')"
      ]
    },
    {
      "cell_type": "markdown",
      "metadata": {
        "id": "D_VjLpPxu9oY"
      },
      "source": [
        "### Calculate RUL for the training data\n"
      ]
    },
    {
      "cell_type": "code",
      "execution_count": 4,
      "metadata": {
        "colab": {
          "base_uri": "https://localhost:8080/",
          "height": 0
        },
        "execution": {
          "iopub.execute_input": "2025-09-18T07:31:10.254696Z",
          "iopub.status.busy": "2025-09-18T07:31:10.254414Z",
          "iopub.status.idle": "2025-09-18T07:31:10.285684Z",
          "shell.execute_reply": "2025-09-18T07:31:10.284267Z",
          "shell.execute_reply.started": "2025-09-18T07:31:10.254675Z"
        },
        "id": "4uiAH8spwVaT",
        "outputId": "7ce809ea-a802-4124-89c8-7fdf6e5d897f",
        "trusted": true
      },
      "outputs": [
        {
          "output_type": "stream",
          "name": "stdout",
          "text": [
            "RUL column calculated, capped at 125, and added to the training data.\n"
          ]
        },
        {
          "output_type": "execute_result",
          "data": {
            "text/plain": [
              "   engine_id  time_in_cycles  op_setting_1  op_setting_2  sensor_2  sensor_3  \\\n",
              "0          1               1       -0.0007       -0.0004    641.82   1589.70   \n",
              "1          1               2        0.0019       -0.0003    642.15   1591.82   \n",
              "2          1               3       -0.0043        0.0003    642.35   1587.99   \n",
              "3          1               4        0.0007        0.0000    642.35   1582.79   \n",
              "4          1               5       -0.0019       -0.0002    642.37   1582.85   \n",
              "\n",
              "   sensor_4  sensor_6  sensor_7  sensor_8  sensor_9  sensor_11  sensor_12  \\\n",
              "0   1400.60     21.61    554.36   2388.06   9046.19      47.47     521.66   \n",
              "1   1403.14     21.61    553.75   2388.04   9044.07      47.49     522.28   \n",
              "2   1404.20     21.61    554.26   2388.08   9052.94      47.27     522.42   \n",
              "3   1401.87     21.61    554.45   2388.11   9049.48      47.13     522.86   \n",
              "4   1406.22     21.61    554.00   2388.06   9055.15      47.28     522.19   \n",
              "\n",
              "   sensor_13  sensor_14  sensor_15  sensor_17  sensor_20  sensor_21  RUL  \n",
              "0    2388.02    8138.62     8.4195        392      39.06    23.4190  125  \n",
              "1    2388.07    8131.49     8.4318        392      39.00    23.4236  125  \n",
              "2    2388.03    8133.23     8.4178        390      38.95    23.3442  125  \n",
              "3    2388.08    8133.83     8.3682        392      38.88    23.3739  125  \n",
              "4    2388.04    8133.80     8.4294        393      38.90    23.4044  125  "
            ],
            "text/html": [
              "\n",
              "  <div id=\"df-e4d8691f-6920-4ae7-9eac-ae8c509fa4fd\" class=\"colab-df-container\">\n",
              "    <div>\n",
              "<style scoped>\n",
              "    .dataframe tbody tr th:only-of-type {\n",
              "        vertical-align: middle;\n",
              "    }\n",
              "\n",
              "    .dataframe tbody tr th {\n",
              "        vertical-align: top;\n",
              "    }\n",
              "\n",
              "    .dataframe thead th {\n",
              "        text-align: right;\n",
              "    }\n",
              "</style>\n",
              "<table border=\"1\" class=\"dataframe\">\n",
              "  <thead>\n",
              "    <tr style=\"text-align: right;\">\n",
              "      <th></th>\n",
              "      <th>engine_id</th>\n",
              "      <th>time_in_cycles</th>\n",
              "      <th>op_setting_1</th>\n",
              "      <th>op_setting_2</th>\n",
              "      <th>sensor_2</th>\n",
              "      <th>sensor_3</th>\n",
              "      <th>sensor_4</th>\n",
              "      <th>sensor_6</th>\n",
              "      <th>sensor_7</th>\n",
              "      <th>sensor_8</th>\n",
              "      <th>sensor_9</th>\n",
              "      <th>sensor_11</th>\n",
              "      <th>sensor_12</th>\n",
              "      <th>sensor_13</th>\n",
              "      <th>sensor_14</th>\n",
              "      <th>sensor_15</th>\n",
              "      <th>sensor_17</th>\n",
              "      <th>sensor_20</th>\n",
              "      <th>sensor_21</th>\n",
              "      <th>RUL</th>\n",
              "    </tr>\n",
              "  </thead>\n",
              "  <tbody>\n",
              "    <tr>\n",
              "      <th>0</th>\n",
              "      <td>1</td>\n",
              "      <td>1</td>\n",
              "      <td>-0.0007</td>\n",
              "      <td>-0.0004</td>\n",
              "      <td>641.82</td>\n",
              "      <td>1589.70</td>\n",
              "      <td>1400.60</td>\n",
              "      <td>21.61</td>\n",
              "      <td>554.36</td>\n",
              "      <td>2388.06</td>\n",
              "      <td>9046.19</td>\n",
              "      <td>47.47</td>\n",
              "      <td>521.66</td>\n",
              "      <td>2388.02</td>\n",
              "      <td>8138.62</td>\n",
              "      <td>8.4195</td>\n",
              "      <td>392</td>\n",
              "      <td>39.06</td>\n",
              "      <td>23.4190</td>\n",
              "      <td>125</td>\n",
              "    </tr>\n",
              "    <tr>\n",
              "      <th>1</th>\n",
              "      <td>1</td>\n",
              "      <td>2</td>\n",
              "      <td>0.0019</td>\n",
              "      <td>-0.0003</td>\n",
              "      <td>642.15</td>\n",
              "      <td>1591.82</td>\n",
              "      <td>1403.14</td>\n",
              "      <td>21.61</td>\n",
              "      <td>553.75</td>\n",
              "      <td>2388.04</td>\n",
              "      <td>9044.07</td>\n",
              "      <td>47.49</td>\n",
              "      <td>522.28</td>\n",
              "      <td>2388.07</td>\n",
              "      <td>8131.49</td>\n",
              "      <td>8.4318</td>\n",
              "      <td>392</td>\n",
              "      <td>39.00</td>\n",
              "      <td>23.4236</td>\n",
              "      <td>125</td>\n",
              "    </tr>\n",
              "    <tr>\n",
              "      <th>2</th>\n",
              "      <td>1</td>\n",
              "      <td>3</td>\n",
              "      <td>-0.0043</td>\n",
              "      <td>0.0003</td>\n",
              "      <td>642.35</td>\n",
              "      <td>1587.99</td>\n",
              "      <td>1404.20</td>\n",
              "      <td>21.61</td>\n",
              "      <td>554.26</td>\n",
              "      <td>2388.08</td>\n",
              "      <td>9052.94</td>\n",
              "      <td>47.27</td>\n",
              "      <td>522.42</td>\n",
              "      <td>2388.03</td>\n",
              "      <td>8133.23</td>\n",
              "      <td>8.4178</td>\n",
              "      <td>390</td>\n",
              "      <td>38.95</td>\n",
              "      <td>23.3442</td>\n",
              "      <td>125</td>\n",
              "    </tr>\n",
              "    <tr>\n",
              "      <th>3</th>\n",
              "      <td>1</td>\n",
              "      <td>4</td>\n",
              "      <td>0.0007</td>\n",
              "      <td>0.0000</td>\n",
              "      <td>642.35</td>\n",
              "      <td>1582.79</td>\n",
              "      <td>1401.87</td>\n",
              "      <td>21.61</td>\n",
              "      <td>554.45</td>\n",
              "      <td>2388.11</td>\n",
              "      <td>9049.48</td>\n",
              "      <td>47.13</td>\n",
              "      <td>522.86</td>\n",
              "      <td>2388.08</td>\n",
              "      <td>8133.83</td>\n",
              "      <td>8.3682</td>\n",
              "      <td>392</td>\n",
              "      <td>38.88</td>\n",
              "      <td>23.3739</td>\n",
              "      <td>125</td>\n",
              "    </tr>\n",
              "    <tr>\n",
              "      <th>4</th>\n",
              "      <td>1</td>\n",
              "      <td>5</td>\n",
              "      <td>-0.0019</td>\n",
              "      <td>-0.0002</td>\n",
              "      <td>642.37</td>\n",
              "      <td>1582.85</td>\n",
              "      <td>1406.22</td>\n",
              "      <td>21.61</td>\n",
              "      <td>554.00</td>\n",
              "      <td>2388.06</td>\n",
              "      <td>9055.15</td>\n",
              "      <td>47.28</td>\n",
              "      <td>522.19</td>\n",
              "      <td>2388.04</td>\n",
              "      <td>8133.80</td>\n",
              "      <td>8.4294</td>\n",
              "      <td>393</td>\n",
              "      <td>38.90</td>\n",
              "      <td>23.4044</td>\n",
              "      <td>125</td>\n",
              "    </tr>\n",
              "  </tbody>\n",
              "</table>\n",
              "</div>\n",
              "    <div class=\"colab-df-buttons\">\n",
              "\n",
              "  <div class=\"colab-df-container\">\n",
              "    <button class=\"colab-df-convert\" onclick=\"convertToInteractive('df-e4d8691f-6920-4ae7-9eac-ae8c509fa4fd')\"\n",
              "            title=\"Convert this dataframe to an interactive table.\"\n",
              "            style=\"display:none;\">\n",
              "\n",
              "  <svg xmlns=\"http://www.w3.org/2000/svg\" height=\"24px\" viewBox=\"0 -960 960 960\">\n",
              "    <path d=\"M120-120v-720h720v720H120Zm60-500h600v-160H180v160Zm220 220h160v-160H400v160Zm0 220h160v-160H400v160ZM180-400h160v-160H180v160Zm440 0h160v-160H620v160ZM180-180h160v-160H180v160Zm440 0h160v-160H620v160Z\"/>\n",
              "  </svg>\n",
              "    </button>\n",
              "\n",
              "  <style>\n",
              "    .colab-df-container {\n",
              "      display:flex;\n",
              "      gap: 12px;\n",
              "    }\n",
              "\n",
              "    .colab-df-convert {\n",
              "      background-color: #E8F0FE;\n",
              "      border: none;\n",
              "      border-radius: 50%;\n",
              "      cursor: pointer;\n",
              "      display: none;\n",
              "      fill: #1967D2;\n",
              "      height: 32px;\n",
              "      padding: 0 0 0 0;\n",
              "      width: 32px;\n",
              "    }\n",
              "\n",
              "    .colab-df-convert:hover {\n",
              "      background-color: #E2EBFA;\n",
              "      box-shadow: 0px 1px 2px rgba(60, 64, 67, 0.3), 0px 1px 3px 1px rgba(60, 64, 67, 0.15);\n",
              "      fill: #174EA6;\n",
              "    }\n",
              "\n",
              "    .colab-df-buttons div {\n",
              "      margin-bottom: 4px;\n",
              "    }\n",
              "\n",
              "    [theme=dark] .colab-df-convert {\n",
              "      background-color: #3B4455;\n",
              "      fill: #D2E3FC;\n",
              "    }\n",
              "\n",
              "    [theme=dark] .colab-df-convert:hover {\n",
              "      background-color: #434B5C;\n",
              "      box-shadow: 0px 1px 3px 1px rgba(0, 0, 0, 0.15);\n",
              "      filter: drop-shadow(0px 1px 2px rgba(0, 0, 0, 0.3));\n",
              "      fill: #FFFFFF;\n",
              "    }\n",
              "  </style>\n",
              "\n",
              "    <script>\n",
              "      const buttonEl =\n",
              "        document.querySelector('#df-e4d8691f-6920-4ae7-9eac-ae8c509fa4fd button.colab-df-convert');\n",
              "      buttonEl.style.display =\n",
              "        google.colab.kernel.accessAllowed ? 'block' : 'none';\n",
              "\n",
              "      async function convertToInteractive(key) {\n",
              "        const element = document.querySelector('#df-e4d8691f-6920-4ae7-9eac-ae8c509fa4fd');\n",
              "        const dataTable =\n",
              "          await google.colab.kernel.invokeFunction('convertToInteractive',\n",
              "                                                    [key], {});\n",
              "        if (!dataTable) return;\n",
              "\n",
              "        const docLinkHtml = 'Like what you see? Visit the ' +\n",
              "          '<a target=\"_blank\" href=https://colab.research.google.com/notebooks/data_table.ipynb>data table notebook</a>'\n",
              "          + ' to learn more about interactive tables.';\n",
              "        element.innerHTML = '';\n",
              "        dataTable['output_type'] = 'display_data';\n",
              "        await google.colab.output.renderOutput(dataTable, element);\n",
              "        const docLink = document.createElement('div');\n",
              "        docLink.innerHTML = docLinkHtml;\n",
              "        element.appendChild(docLink);\n",
              "      }\n",
              "    </script>\n",
              "  </div>\n",
              "\n",
              "\n",
              "    <div id=\"df-22de35d9-e0fc-4abc-9e82-b9cde16af73e\">\n",
              "      <button class=\"colab-df-quickchart\" onclick=\"quickchart('df-22de35d9-e0fc-4abc-9e82-b9cde16af73e')\"\n",
              "                title=\"Suggest charts\"\n",
              "                style=\"display:none;\">\n",
              "\n",
              "<svg xmlns=\"http://www.w3.org/2000/svg\" height=\"24px\"viewBox=\"0 0 24 24\"\n",
              "     width=\"24px\">\n",
              "    <g>\n",
              "        <path d=\"M19 3H5c-1.1 0-2 .9-2 2v14c0 1.1.9 2 2 2h14c1.1 0 2-.9 2-2V5c0-1.1-.9-2-2-2zM9 17H7v-7h2v7zm4 0h-2V7h2v10zm4 0h-2v-4h2v4z\"/>\n",
              "    </g>\n",
              "</svg>\n",
              "      </button>\n",
              "\n",
              "<style>\n",
              "  .colab-df-quickchart {\n",
              "      --bg-color: #E8F0FE;\n",
              "      --fill-color: #1967D2;\n",
              "      --hover-bg-color: #E2EBFA;\n",
              "      --hover-fill-color: #174EA6;\n",
              "      --disabled-fill-color: #AAA;\n",
              "      --disabled-bg-color: #DDD;\n",
              "  }\n",
              "\n",
              "  [theme=dark] .colab-df-quickchart {\n",
              "      --bg-color: #3B4455;\n",
              "      --fill-color: #D2E3FC;\n",
              "      --hover-bg-color: #434B5C;\n",
              "      --hover-fill-color: #FFFFFF;\n",
              "      --disabled-bg-color: #3B4455;\n",
              "      --disabled-fill-color: #666;\n",
              "  }\n",
              "\n",
              "  .colab-df-quickchart {\n",
              "    background-color: var(--bg-color);\n",
              "    border: none;\n",
              "    border-radius: 50%;\n",
              "    cursor: pointer;\n",
              "    display: none;\n",
              "    fill: var(--fill-color);\n",
              "    height: 32px;\n",
              "    padding: 0;\n",
              "    width: 32px;\n",
              "  }\n",
              "\n",
              "  .colab-df-quickchart:hover {\n",
              "    background-color: var(--hover-bg-color);\n",
              "    box-shadow: 0 1px 2px rgba(60, 64, 67, 0.3), 0 1px 3px 1px rgba(60, 64, 67, 0.15);\n",
              "    fill: var(--button-hover-fill-color);\n",
              "  }\n",
              "\n",
              "  .colab-df-quickchart-complete:disabled,\n",
              "  .colab-df-quickchart-complete:disabled:hover {\n",
              "    background-color: var(--disabled-bg-color);\n",
              "    fill: var(--disabled-fill-color);\n",
              "    box-shadow: none;\n",
              "  }\n",
              "\n",
              "  .colab-df-spinner {\n",
              "    border: 2px solid var(--fill-color);\n",
              "    border-color: transparent;\n",
              "    border-bottom-color: var(--fill-color);\n",
              "    animation:\n",
              "      spin 1s steps(1) infinite;\n",
              "  }\n",
              "\n",
              "  @keyframes spin {\n",
              "    0% {\n",
              "      border-color: transparent;\n",
              "      border-bottom-color: var(--fill-color);\n",
              "      border-left-color: var(--fill-color);\n",
              "    }\n",
              "    20% {\n",
              "      border-color: transparent;\n",
              "      border-left-color: var(--fill-color);\n",
              "      border-top-color: var(--fill-color);\n",
              "    }\n",
              "    30% {\n",
              "      border-color: transparent;\n",
              "      border-left-color: var(--fill-color);\n",
              "      border-top-color: var(--fill-color);\n",
              "      border-right-color: var(--fill-color);\n",
              "    }\n",
              "    40% {\n",
              "      border-color: transparent;\n",
              "      border-right-color: var(--fill-color);\n",
              "      border-top-color: var(--fill-color);\n",
              "    }\n",
              "    60% {\n",
              "      border-color: transparent;\n",
              "      border-right-color: var(--fill-color);\n",
              "    }\n",
              "    80% {\n",
              "      border-color: transparent;\n",
              "      border-right-color: var(--fill-color);\n",
              "      border-bottom-color: var(--fill-color);\n",
              "    }\n",
              "    90% {\n",
              "      border-color: transparent;\n",
              "      border-bottom-color: var(--fill-color);\n",
              "    }\n",
              "  }\n",
              "</style>\n",
              "\n",
              "      <script>\n",
              "        async function quickchart(key) {\n",
              "          const quickchartButtonEl =\n",
              "            document.querySelector('#' + key + ' button');\n",
              "          quickchartButtonEl.disabled = true;  // To prevent multiple clicks.\n",
              "          quickchartButtonEl.classList.add('colab-df-spinner');\n",
              "          try {\n",
              "            const charts = await google.colab.kernel.invokeFunction(\n",
              "                'suggestCharts', [key], {});\n",
              "          } catch (error) {\n",
              "            console.error('Error during call to suggestCharts:', error);\n",
              "          }\n",
              "          quickchartButtonEl.classList.remove('colab-df-spinner');\n",
              "          quickchartButtonEl.classList.add('colab-df-quickchart-complete');\n",
              "        }\n",
              "        (() => {\n",
              "          let quickchartButtonEl =\n",
              "            document.querySelector('#df-22de35d9-e0fc-4abc-9e82-b9cde16af73e button');\n",
              "          quickchartButtonEl.style.display =\n",
              "            google.colab.kernel.accessAllowed ? 'block' : 'none';\n",
              "        })();\n",
              "      </script>\n",
              "    </div>\n",
              "\n",
              "    </div>\n",
              "  </div>\n"
            ],
            "application/vnd.google.colaboratory.intrinsic+json": {
              "type": "dataframe",
              "variable_name": "train_df",
              "summary": "{\n  \"name\": \"train_df\",\n  \"rows\": 20631,\n  \"fields\": [\n    {\n      \"column\": \"engine_id\",\n      \"properties\": {\n        \"dtype\": \"number\",\n        \"std\": 29,\n        \"min\": 1,\n        \"max\": 100,\n        \"num_unique_values\": 100,\n        \"samples\": [\n          84,\n          54,\n          71\n        ],\n        \"semantic_type\": \"\",\n        \"description\": \"\"\n      }\n    },\n    {\n      \"column\": \"time_in_cycles\",\n      \"properties\": {\n        \"dtype\": \"number\",\n        \"std\": 68,\n        \"min\": 1,\n        \"max\": 362,\n        \"num_unique_values\": 362,\n        \"samples\": [\n          164,\n          34,\n          16\n        ],\n        \"semantic_type\": \"\",\n        \"description\": \"\"\n      }\n    },\n    {\n      \"column\": \"op_setting_1\",\n      \"properties\": {\n        \"dtype\": \"number\",\n        \"std\": 0.0021873134490151044,\n        \"min\": -0.0087,\n        \"max\": 0.0087,\n        \"num_unique_values\": 158,\n        \"samples\": [\n          0.0062,\n          -0.0017,\n          0.0074\n        ],\n        \"semantic_type\": \"\",\n        \"description\": \"\"\n      }\n    },\n    {\n      \"column\": \"op_setting_2\",\n      \"properties\": {\n        \"dtype\": \"number\",\n        \"std\": 0.000293062124566125,\n        \"min\": -0.0006,\n        \"max\": 0.0006,\n        \"num_unique_values\": 13,\n        \"samples\": [\n          -0.0005,\n          0.0005,\n          -0.0004\n        ],\n        \"semantic_type\": \"\",\n        \"description\": \"\"\n      }\n    },\n    {\n      \"column\": \"sensor_2\",\n      \"properties\": {\n        \"dtype\": \"number\",\n        \"std\": 0.5000532700606122,\n        \"min\": 641.21,\n        \"max\": 644.53,\n        \"num_unique_values\": 310,\n        \"samples\": [\n          641.59,\n          642.28,\n          642.04\n        ],\n        \"semantic_type\": \"\",\n        \"description\": \"\"\n      }\n    },\n    {\n      \"column\": \"sensor_3\",\n      \"properties\": {\n        \"dtype\": \"number\",\n        \"std\": 6.131149519690787,\n        \"min\": 1571.04,\n        \"max\": 1616.91,\n        \"num_unique_values\": 3012,\n        \"samples\": [\n          1594.0,\n          1591.25,\n          1598.83\n        ],\n        \"semantic_type\": \"\",\n        \"description\": \"\"\n      }\n    },\n    {\n      \"column\": \"sensor_4\",\n      \"properties\": {\n        \"dtype\": \"number\",\n        \"std\": 9.000604780543735,\n        \"min\": 1382.25,\n        \"max\": 1441.49,\n        \"num_unique_values\": 4051,\n        \"samples\": [\n          1415.36,\n          1420.37,\n          1433.72\n        ],\n        \"semantic_type\": \"\",\n        \"description\": \"\"\n      }\n    },\n    {\n      \"column\": \"sensor_6\",\n      \"properties\": {\n        \"dtype\": \"number\",\n        \"std\": 0.0013889849127070525,\n        \"min\": 21.6,\n        \"max\": 21.61,\n        \"num_unique_values\": 2,\n        \"samples\": [\n          21.6,\n          21.61\n        ],\n        \"semantic_type\": \"\",\n        \"description\": \"\"\n      }\n    },\n    {\n      \"column\": \"sensor_7\",\n      \"properties\": {\n        \"dtype\": \"number\",\n        \"std\": 0.885092257663408,\n        \"min\": 549.85,\n        \"max\": 556.06,\n        \"num_unique_values\": 513,\n        \"samples\": [\n          555.11,\n          550.61\n        ],\n        \"semantic_type\": \"\",\n        \"description\": \"\"\n      }\n    },\n    {\n      \"column\": \"sensor_8\",\n      \"properties\": {\n        \"dtype\": \"number\",\n        \"std\": 0.0709854788909189,\n        \"min\": 2387.9,\n        \"max\": 2388.56,\n        \"num_unique_values\": 53,\n        \"samples\": [\n          2388.26,\n          2388.33\n        ],\n        \"semantic_type\": \"\",\n        \"description\": \"\"\n      }\n    },\n    {\n      \"column\": \"sensor_9\",\n      \"properties\": {\n        \"dtype\": \"number\",\n        \"std\": 22.08287952506627,\n        \"min\": 9021.73,\n        \"max\": 9244.59,\n        \"num_unique_values\": 6403,\n        \"samples\": [\n          9069.73,\n          9069.31\n        ],\n        \"semantic_type\": \"\",\n        \"description\": \"\"\n      }\n    },\n    {\n      \"column\": \"sensor_11\",\n      \"properties\": {\n        \"dtype\": \"number\",\n        \"std\": 0.2670873986396874,\n        \"min\": 46.85,\n        \"max\": 48.53,\n        \"num_unique_values\": 159,\n        \"samples\": [\n          48.33,\n          46.91\n        ],\n        \"semantic_type\": \"\",\n        \"description\": \"\"\n      }\n    },\n    {\n      \"column\": \"sensor_12\",\n      \"properties\": {\n        \"dtype\": \"number\",\n        \"std\": 0.7375533922097044,\n        \"min\": 518.69,\n        \"max\": 523.38,\n        \"num_unique_values\": 427,\n        \"samples\": [\n          523.35,\n          521.36\n        ],\n        \"semantic_type\": \"\",\n        \"description\": \"\"\n      }\n    },\n    {\n      \"column\": \"sensor_13\",\n      \"properties\": {\n        \"dtype\": \"number\",\n        \"std\": 0.07191891569858286,\n        \"min\": 2387.88,\n        \"max\": 2388.56,\n        \"num_unique_values\": 56,\n        \"samples\": [\n          2388.02,\n          2388.05\n        ],\n        \"semantic_type\": \"\",\n        \"description\": \"\"\n      }\n    },\n    {\n      \"column\": \"sensor_14\",\n      \"properties\": {\n        \"dtype\": \"number\",\n        \"std\": 19.076175975953127,\n        \"min\": 8099.94,\n        \"max\": 8293.72,\n        \"num_unique_values\": 6078,\n        \"samples\": [\n          8209.96,\n          8142.84\n        ],\n        \"semantic_type\": \"\",\n        \"description\": \"\"\n      }\n    },\n    {\n      \"column\": \"sensor_15\",\n      \"properties\": {\n        \"dtype\": \"number\",\n        \"std\": 0.03750503795196683,\n        \"min\": 8.3249,\n        \"max\": 8.5848,\n        \"num_unique_values\": 1918,\n        \"samples\": [\n          8.4466,\n          8.5191\n        ],\n        \"semantic_type\": \"\",\n        \"description\": \"\"\n      }\n    },\n    {\n      \"column\": \"sensor_17\",\n      \"properties\": {\n        \"dtype\": \"number\",\n        \"std\": 1,\n        \"min\": 388,\n        \"max\": 400,\n        \"num_unique_values\": 13,\n        \"samples\": [\n          388,\n          389\n        ],\n        \"semantic_type\": \"\",\n        \"description\": \"\"\n      }\n    },\n    {\n      \"column\": \"sensor_20\",\n      \"properties\": {\n        \"dtype\": \"number\",\n        \"std\": 0.18074642787366235,\n        \"min\": 38.14,\n        \"max\": 39.43,\n        \"num_unique_values\": 120,\n        \"samples\": [\n          38.56,\n          38.66\n        ],\n        \"semantic_type\": \"\",\n        \"description\": \"\"\n      }\n    },\n    {\n      \"column\": \"sensor_21\",\n      \"properties\": {\n        \"dtype\": \"number\",\n        \"std\": 0.10825087474491232,\n        \"min\": 22.8942,\n        \"max\": 23.6184,\n        \"num_unique_values\": 4745,\n        \"samples\": [\n          23.3195,\n          23.2508\n        ],\n        \"semantic_type\": \"\",\n        \"description\": \"\"\n      }\n    },\n    {\n      \"column\": \"RUL\",\n      \"properties\": {\n        \"dtype\": \"number\",\n        \"std\": 41,\n        \"min\": 0,\n        \"max\": 125,\n        \"num_unique_values\": 126,\n        \"samples\": [\n          52,\n          106\n        ],\n        \"semantic_type\": \"\",\n        \"description\": \"\"\n      }\n    }\n  ]\n}"
            }
          },
          "metadata": {},
          "execution_count": 4
        }
      ],
      "source": [
        "# Calculate the maximum cycle for each engine\n",
        "max_cycles_df = train_df.groupby('engine_id')['time_in_cycles'].max().reset_index()\n",
        "max_cycles_df.columns = ['engine_id', 'max_cycles']\n",
        "\n",
        "# Merge the max cycle info back into the training dataframe\n",
        "train_df = pd.merge(train_df, max_cycles_df, on='engine_id', how='left')\n",
        "\n",
        "# Calculate RUL\n",
        "train_df['RUL'] = train_df['max_cycles'] - train_df['time_in_cycles']\n",
        "\n",
        "# Drop helper column\n",
        "train_df.drop(columns=['max_cycles'], inplace=True)\n",
        "\n",
        "# Cap RUL at 125\n",
        "train_df['RUL'] = train_df['RUL'].clip(upper=125)\n",
        "\n",
        "print(\"RUL column calculated, capped at 125, and added to the training data.\")\n",
        "train_df.head()\n"
      ]
    },
    {
      "cell_type": "markdown",
      "metadata": {
        "id": "gZdWGNoPxPQQ"
      },
      "source": [
        "# EDA + Feature Building"
      ]
    },
    {
      "cell_type": "code",
      "execution_count": 5,
      "metadata": {
        "id": "zwhqrJ2ywVaY",
        "trusted": true
      },
      "outputs": [],
      "source": [
        "import tensorflow as tf\n",
        "from tensorflow.keras.models import Sequential\n",
        "from tensorflow.keras.layers import Input, LSTM, Dense, Dropout\n",
        "from sklearn.preprocessing import MinMaxScaler\n"
      ]
    },
    {
      "cell_type": "markdown",
      "metadata": {
        "id": "Q5AAjOuEyv7h"
      },
      "source": [
        "### Set a seed for reproducibility\n"
      ]
    },
    {
      "cell_type": "code",
      "execution_count": 6,
      "metadata": {
        "colab": {
          "base_uri": "https://localhost:8080/"
        },
        "id": "HxY4k0_NwVaZ",
        "outputId": "16c080d2-08e3-4e28-a566-eb46066557d5",
        "trusted": true
      },
      "outputs": [
        {
          "output_type": "stream",
          "name": "stdout",
          "text": [
            "Random seeds are set for reproducibility.\n"
          ]
        }
      ],
      "source": [
        "# Define a seed value for reproducibility\n",
        "SEED_VALUE = 42\n",
        "\n",
        "# 1. Set the `PYTHONHASHSEED` environment variable\n",
        "import os\n",
        "os.environ['PYTHONHASHSEED'] = str(SEED_VALUE)\n",
        "\n",
        "# 2. Set the `python` built-in random seed\n",
        "import random\n",
        "random.seed(SEED_VALUE)\n",
        "\n",
        "# 3. Set the `numpy` random seed\n",
        "import numpy as np\n",
        "np.random.seed(SEED_VALUE)\n",
        "\n",
        "# 4. Set the `tensorflow` random seed\n",
        "import tensorflow as tf\n",
        "tf.random.set_seed(SEED_VALUE)\n",
        "\n",
        "print(\"Random seeds are set for reproducibility.\")"
      ]
    },
    {
      "cell_type": "code",
      "execution_count": 7,
      "metadata": {
        "id": "rJtjXlMrwVaZ",
        "trusted": true
      },
      "outputs": [],
      "source": [
        "def generate_sequences(df, sequence_length, feature_cols):\n",
        "    \"\"\"\n",
        "    Generates sequences of data and corresponding targets for the LSTM model.\n",
        "    The target is the RUL at the end of each sequence.\n",
        "    \"\"\"\n",
        "    sequences, targets = [], []\n",
        "\n",
        "    # Generate sequences for each unique engine_id\n",
        "    for engine_id in df['engine_id'].unique():\n",
        "        engine_df = df[df['engine_id'] == engine_id]\n",
        "\n",
        "        # Create sequences of length sequence_length\n",
        "        # The loop iterates up to the point where a full sequence can be formed\n",
        "        for i in range(len(engine_df) - sequence_length + 1):\n",
        "            seq = engine_df[feature_cols].iloc[i:i+sequence_length].values\n",
        "            target = engine_df['RUL'].iloc[i+sequence_length-1]\n",
        "            sequences.append(seq)\n",
        "            targets.append(target)\n",
        "\n",
        "    return np.array(sequences), np.array(targets)\n",
        "\n",
        "# Identify feature columns\n",
        "feature_cols = train_df.columns.drop(['engine_id', 'time_in_cycles', 'RUL'])\n",
        "\n",
        "# Scale features using MinMaxScaler\n",
        "scaler = MinMaxScaler()\n",
        "train_df[feature_cols] = scaler.fit_transform(train_df[feature_cols])\n",
        "test_df[feature_cols] = scaler.transform(test_df[feature_cols])\n",
        "\n",
        "# Generate sequences\n",
        "sequence_length = 50\n",
        "X_train_lstm, y_train_lstm = generate_sequences(train_df, sequence_length, feature_cols)"
      ]
    },
    {
      "cell_type": "markdown",
      "metadata": {
        "id": "5dozGSpRyo5w"
      },
      "source": [
        "### Prepare the test data, taking only the last sequence for each engine\n"
      ]
    },
    {
      "cell_type": "code",
      "execution_count": 8,
      "metadata": {
        "colab": {
          "base_uri": "https://localhost:8080/"
        },
        "id": "un9gwoYNwVaZ",
        "outputId": "213832a8-aba7-4329-8d64-074da5d0ef40",
        "trusted": true
      },
      "outputs": [
        {
          "output_type": "stream",
          "name": "stdout",
          "text": [
            "LSTM Test features shape: (100, 50, 17)\n",
            "LSTM Test targets shape: (100,)\n"
          ]
        }
      ],
      "source": [
        "# We need to find the last sequence for each engine in the test set\n",
        "X_test_lstm = []\n",
        "\n",
        "for engine_id in test_df['engine_id'].unique():\n",
        "    engine_df = test_df[test_df['engine_id'] == engine_id]\n",
        "\n",
        "    # Get the last 'sequence_length' measurements\n",
        "    last_sequence = engine_df[feature_cols].tail(sequence_length).values\n",
        "\n",
        "    # If an engine has fewer cycles than sequence_length, we pad with zeros at the beginning\n",
        "    if len(last_sequence) < sequence_length:\n",
        "        padded_sequence = np.zeros((sequence_length, len(feature_cols)))\n",
        "        padded_sequence[-len(last_sequence):] = last_sequence\n",
        "        X_test_lstm.append(padded_sequence)\n",
        "    else:\n",
        "        X_test_lstm.append(last_sequence)\n",
        "\n",
        "X_test_lstm = np.array(X_test_lstm)\n",
        "\n",
        "# The ground truth RUL values correspond to these test sequences\n",
        "y_test_lstm = rul_df['RUL'].values\n",
        "\n",
        "print(f\"LSTM Test features shape: {X_test_lstm.shape}\")\n",
        "print(f\"LSTM Test targets shape: {y_test_lstm.shape}\")"
      ]
    },
    {
      "cell_type": "markdown",
      "metadata": {
        "id": "xGvOJkoo6sbx"
      },
      "source": [
        "### Some useful plots to get more grasp of the data.\n"
      ]
    },
    {
      "cell_type": "code",
      "execution_count": 9,
      "metadata": {
        "colab": {
          "base_uri": "https://localhost:8080/",
          "height": 1000
        },
        "id": "fzKh4Dd-6sbx",
        "outputId": "fce576a5-8073-464f-8e02-dab4d7c0c5e8"
      },
      "outputs": [
        {
          "output_type": "display_data",
          "data": {
            "text/plain": [
              "<Figure size 1200x600 with 1 Axes>"
            ],
            "image/png": "[encoded data removed]"
          },
          "metadata": {}
        },
        {
          "output_type": "display_data",
          "data": {
            "text/plain": [
              "<Figure size 1200x1000 with 2 Axes>"
            ],
            "image/png": "[encoded data removed]"
          },
          "metadata": {}
        }
      ],
      "source": [
        "import matplotlib.pyplot as plt\n",
        "\n",
        "engine_id = 1\n",
        "df_plot = train_df[train_df['engine_id'] == engine_id]\n",
        "\n",
        "plt.figure(figsize=(12,6))\n",
        "plt.plot(df_plot['time_in_cycles'], df_plot['sensor_2'], label='Sensor 2', color='Red')\n",
        "plt.plot(df_plot['time_in_cycles'], df_plot['sensor_3'], label='Sensor 3')\n",
        "plt.plot(df_plot['time_in_cycles'], df_plot['RUL'], label='RUL', color='black', linewidth=2)\n",
        "\n",
        "plt.xlabel('Time (cycles)')\n",
        "plt.ylabel('Value')\n",
        "plt.title(f'Engine {engine_id}: sensors vs RUL')\n",
        "plt.legend()\n",
        "plt.show()\n",
        "\n",
        "import seaborn as sns\n",
        "\n",
        "corr = train_df[feature_cols.tolist() + ['RUL']].corr()\n",
        "plt.figure(figsize=(12,10))\n",
        "sns.heatmap(corr[['RUL']].sort_values('RUL', ascending=False),\n",
        "            annot=True, cmap='coolwarm')\n",
        "plt.title('Correlation of features with RUL')\n",
        "plt.show()\n"
      ]
    },
    {
      "cell_type": "markdown",
      "metadata": {
        "id": "0K01tL6awVaW"
      },
      "source": [
        "# Model Training & Validation"
      ]
    },
    {
      "cell_type": "code",
      "execution_count": 10,
      "metadata": {
        "colab": {
          "base_uri": "https://localhost:8080/",
          "height": 440
        },
        "id": "awLnr5EEwVaZ",
        "outputId": "7399406e-d69f-40e7-99de-5e221f247586",
        "trusted": true
      },
      "outputs": [
        {
          "output_type": "stream",
          "name": "stderr",
          "text": [
            "/usr/local/lib/python3.12/dist-packages/keras/src/layers/rnn/rnn.py:199: UserWarning: Do not pass an `input_shape`/`input_dim` argument to a layer. When using Sequential models, prefer using an `Input(shape)` object as the first layer in the model instead.\n",
            "  super().__init__(**kwargs)\n"
          ]
        },
        {
          "output_type": "display_data",
          "data": {
            "text/plain": [
              "\u001b[1mModel: \"sequential\"\u001b[0m\n"
            ],
            "text/html": [
              "<pre style=\"white-space:pre;overflow-x:auto;line-height:normal;font-family:Menlo,'DejaVu Sans Mono',consolas,'Courier New',monospace\"><span style=\"font-weight: bold\">Model: \"sequential\"</span>\n",
              "</pre>\n"
            ]
          },
          "metadata": {}
        },
        {
          "output_type": "display_data",
          "data": {
            "text/plain": [
              "┏━━━━━━━━━━━━━━━━━━━━━━━━━━━━━━━━━┳━━━━━━━━━━━━━━━━━━━━━━━━┳━━━━━━━━━━━━━━━┓\n",
              "┃\u001b[1m \u001b[0m\u001b[1mLayer (type)                   \u001b[0m\u001b[1m \u001b[0m┃\u001b[1m \u001b[0m\u001b[1mOutput Shape          \u001b[0m\u001b[1m \u001b[0m┃\u001b[1m \u001b[0m\u001b[1m      Param #\u001b[0m\u001b[1m \u001b[0m┃\n",
              "┡━━━━━━━━━━━━━━━━━━━━━━━━━━━━━━━━━╇━━━━━━━━━━━━━━━━━━━━━━━━╇━━━━━━━━━━━━━━━┩\n",
              "│ lstm (\u001b[38;5;33mLSTM\u001b[0m)                     │ (\u001b[38;5;45mNone\u001b[0m, \u001b[38;5;34m50\u001b[0m, \u001b[38;5;34m128\u001b[0m)        │        \u001b[38;5;34m74,752\u001b[0m │\n",
              "├─────────────────────────────────┼────────────────────────┼───────────────┤\n",
              "│ dropout (\u001b[38;5;33mDropout\u001b[0m)               │ (\u001b[38;5;45mNone\u001b[0m, \u001b[38;5;34m50\u001b[0m, \u001b[38;5;34m128\u001b[0m)        │             \u001b[38;5;34m0\u001b[0m │\n",
              "├─────────────────────────────────┼────────────────────────┼───────────────┤\n",
              "│ lstm_1 (\u001b[38;5;33mLSTM\u001b[0m)                   │ (\u001b[38;5;45mNone\u001b[0m, \u001b[38;5;34m50\u001b[0m, \u001b[38;5;34m64\u001b[0m)         │        \u001b[38;5;34m49,408\u001b[0m │\n",
              "├─────────────────────────────────┼────────────────────────┼───────────────┤\n",
              "│ dropout_1 (\u001b[38;5;33mDropout\u001b[0m)             │ (\u001b[38;5;45mNone\u001b[0m, \u001b[38;5;34m50\u001b[0m, \u001b[38;5;34m64\u001b[0m)         │             \u001b[38;5;34m0\u001b[0m │\n",
              "├─────────────────────────────────┼────────────────────────┼───────────────┤\n",
              "│ lstm_2 (\u001b[38;5;33mLSTM\u001b[0m)                   │ (\u001b[38;5;45mNone\u001b[0m, \u001b[38;5;34m32\u001b[0m)             │        \u001b[38;5;34m12,416\u001b[0m │\n",
              "├─────────────────────────────────┼────────────────────────┼───────────────┤\n",
              "│ dropout_2 (\u001b[38;5;33mDropout\u001b[0m)             │ (\u001b[38;5;45mNone\u001b[0m, \u001b[38;5;34m32\u001b[0m)             │             \u001b[38;5;34m0\u001b[0m │\n",
              "├─────────────────────────────────┼────────────────────────┼───────────────┤\n",
              "│ dense (\u001b[38;5;33mDense\u001b[0m)                   │ (\u001b[38;5;45mNone\u001b[0m, \u001b[38;5;34m64\u001b[0m)             │         \u001b[38;5;34m2,112\u001b[0m │\n",
              "├─────────────────────────────────┼────────────────────────┼───────────────┤\n",
              "│ dense_1 (\u001b[38;5;33mDense\u001b[0m)                 │ (\u001b[38;5;45mNone\u001b[0m, \u001b[38;5;34m1\u001b[0m)              │            \u001b[38;5;34m65\u001b[0m │\n",
              "└─────────────────────────────────┴────────────────────────┴───────────────┘\n"
            ],
            "text/html": [
              "<pre style=\"white-space:pre;overflow-x:auto;line-height:normal;font-family:Menlo,'DejaVu Sans Mono',consolas,'Courier New',monospace\">┏━━━━━━━━━━━━━━━━━━━━━━━━━━━━━━━━━┳━━━━━━━━━━━━━━━━━━━━━━━━┳━━━━━━━━━━━━━━━┓\n",
              "┃<span style=\"font-weight: bold\"> Layer (type)                    </span>┃<span style=\"font-weight: bold\"> Output Shape           </span>┃<span style=\"font-weight: bold\">       Param # </span>┃\n",
              "┡━━━━━━━━━━━━━━━━━━━━━━━━━━━━━━━━━╇━━━━━━━━━━━━━━━━━━━━━━━━╇━━━━━━━━━━━━━━━┩\n",
              "│ lstm (<span style=\"color: #0087ff; text-decoration-color: #0087ff\">LSTM</span>)                     │ (<span style=\"color: #00d7ff; text-decoration-color: #00d7ff\">None</span>, <span style=\"color: #00af00; text-decoration-color: #00af00\">50</span>, <span style=\"color: #00af00; text-decoration-color: #00af00\">128</span>)        │        <span style=\"color: #00af00; text-decoration-color: #00af00\">74,752</span> │\n",
              "├─────────────────────────────────┼────────────────────────┼───────────────┤\n",
              "│ dropout (<span style=\"color: #0087ff; text-decoration-color: #0087ff\">Dropout</span>)               │ (<span style=\"color: #00d7ff; text-decoration-color: #00d7ff\">None</span>, <span style=\"color: #00af00; text-decoration-color: #00af00\">50</span>, <span style=\"color: #00af00; text-decoration-color: #00af00\">128</span>)        │             <span style=\"color: #00af00; text-decoration-color: #00af00\">0</span> │\n",
              "├─────────────────────────────────┼────────────────────────┼───────────────┤\n",
              "│ lstm_1 (<span style=\"color: #0087ff; text-decoration-color: #0087ff\">LSTM</span>)                   │ (<span style=\"color: #00d7ff; text-decoration-color: #00d7ff\">None</span>, <span style=\"color: #00af00; text-decoration-color: #00af00\">50</span>, <span style=\"color: #00af00; text-decoration-color: #00af00\">64</span>)         │        <span style=\"color: #00af00; text-decoration-color: #00af00\">49,408</span> │\n",
              "├─────────────────────────────────┼────────────────────────┼───────────────┤\n",
              "│ dropout_1 (<span style=\"color: #0087ff; text-decoration-color: #0087ff\">Dropout</span>)             │ (<span style=\"color: #00d7ff; text-decoration-color: #00d7ff\">None</span>, <span style=\"color: #00af00; text-decoration-color: #00af00\">50</span>, <span style=\"color: #00af00; text-decoration-color: #00af00\">64</span>)         │             <span style=\"color: #00af00; text-decoration-color: #00af00\">0</span> │\n",
              "├─────────────────────────────────┼────────────────────────┼───────────────┤\n",
              "│ lstm_2 (<span style=\"color: #0087ff; text-decoration-color: #0087ff\">LSTM</span>)                   │ (<span style=\"color: #00d7ff; text-decoration-color: #00d7ff\">None</span>, <span style=\"color: #00af00; text-decoration-color: #00af00\">32</span>)             │        <span style=\"color: #00af00; text-decoration-color: #00af00\">12,416</span> │\n",
              "├─────────────────────────────────┼────────────────────────┼───────────────┤\n",
              "│ dropout_2 (<span style=\"color: #0087ff; text-decoration-color: #0087ff\">Dropout</span>)             │ (<span style=\"color: #00d7ff; text-decoration-color: #00d7ff\">None</span>, <span style=\"color: #00af00; text-decoration-color: #00af00\">32</span>)             │             <span style=\"color: #00af00; text-decoration-color: #00af00\">0</span> │\n",
              "├─────────────────────────────────┼────────────────────────┼───────────────┤\n",
              "│ dense (<span style=\"color: #0087ff; text-decoration-color: #0087ff\">Dense</span>)                   │ (<span style=\"color: #00d7ff; text-decoration-color: #00d7ff\">None</span>, <span style=\"color: #00af00; text-decoration-color: #00af00\">64</span>)             │         <span style=\"color: #00af00; text-decoration-color: #00af00\">2,112</span> │\n",
              "├─────────────────────────────────┼────────────────────────┼───────────────┤\n",
              "│ dense_1 (<span style=\"color: #0087ff; text-decoration-color: #0087ff\">Dense</span>)                 │ (<span style=\"color: #00d7ff; text-decoration-color: #00d7ff\">None</span>, <span style=\"color: #00af00; text-decoration-color: #00af00\">1</span>)              │            <span style=\"color: #00af00; text-decoration-color: #00af00\">65</span> │\n",
              "└─────────────────────────────────┴────────────────────────┴───────────────┘\n",
              "</pre>\n"
            ]
          },
          "metadata": {}
        },
        {
          "output_type": "display_data",
          "data": {
            "text/plain": [
              "\u001b[1m Total params: \u001b[0m\u001b[38;5;34m138,753\u001b[0m (542.00 KB)\n"
            ],
            "text/html": [
              "<pre style=\"white-space:pre;overflow-x:auto;line-height:normal;font-family:Menlo,'DejaVu Sans Mono',consolas,'Courier New',monospace\"><span style=\"font-weight: bold\"> Total params: </span><span style=\"color: #00af00; text-decoration-color: #00af00\">138,753</span> (542.00 KB)\n",
              "</pre>\n"
            ]
          },
          "metadata": {}
        },
        {
          "output_type": "display_data",
          "data": {
            "text/plain": [
              "\u001b[1m Trainable params: \u001b[0m\u001b[38;5;34m138,753\u001b[0m (542.00 KB)\n"
            ],
            "text/html": [
              "<pre style=\"white-space:pre;overflow-x:auto;line-height:normal;font-family:Menlo,'DejaVu Sans Mono',consolas,'Courier New',monospace\"><span style=\"font-weight: bold\"> Trainable params: </span><span style=\"color: #00af00; text-decoration-color: #00af00\">138,753</span> (542.00 KB)\n",
              "</pre>\n"
            ]
          },
          "metadata": {}
        },
        {
          "output_type": "display_data",
          "data": {
            "text/plain": [
              "\u001b[1m Non-trainable params: \u001b[0m\u001b[38;5;34m0\u001b[0m (0.00 B)\n"
            ],
            "text/html": [
              "<pre style=\"white-space:pre;overflow-x:auto;line-height:normal;font-family:Menlo,'DejaVu Sans Mono',consolas,'Courier New',monospace\"><span style=\"font-weight: bold\"> Non-trainable params: </span><span style=\"color: #00af00; text-decoration-color: #00af00\">0</span> (0.00 B)\n",
              "</pre>\n"
            ]
          },
          "metadata": {}
        }
      ],
      "source": [
        "from tensorflow.keras.callbacks import EarlyStopping\n",
        "\n",
        "# Determine the input shape from our training data (sequence_length, num_features)\n",
        "input_shape = (X_train_lstm.shape[1], X_train_lstm.shape[2])\n",
        "\n",
        "# Build the LSTM model\n",
        "lstm_model = Sequential()\n",
        "\n",
        "# Add the explicit Input layer\n",
        "# lstm_model.add(Input(shape=input_shape))\n",
        "lstm_model.add(LSTM(128, return_sequences=True, input_shape=input_shape))\n",
        "lstm_model.add(Dropout(0.3))\n",
        "\n",
        "# First LSTM layer with Dropout\n",
        "lstm_model.add(LSTM(64, return_sequences=True,activation='tanh'))\n",
        "lstm_model.add(Dropout(0.3))\n",
        "\n",
        "# Second LSTM layer with Dropout\n",
        "lstm_model.add(LSTM(units=32, activation='tanh'))\n",
        "lstm_model.add(Dropout(0.3))\n",
        "\n",
        "lstm_model.add(Dense(64, activation='relu'))\n",
        "lstm_model.add(Dense(1))\n",
        "\n",
        "\n",
        "# Display the model's architecture\n",
        "lstm_model.summary()"
      ]
    },
    {
      "cell_type": "code",
      "execution_count": 11,
      "metadata": {
        "id": "deN1xaIjwVaa",
        "trusted": true
      },
      "outputs": [],
      "source": [
        "# Compile the model\n",
        "lstm_model.compile(optimizer='adam',\n",
        "                   loss='mean_squared_error',\n",
        "                   metrics=[tf.keras.metrics.RootMeanSquaredError()])"
      ]
    },
    {
      "cell_type": "code",
      "execution_count": 12,
      "metadata": {
        "colab": {
          "base_uri": "https://localhost:8080/"
        },
        "id": "363pdGlCwVaa",
        "outputId": "e46ad779-5663-4428-e884-40b4a28171f5",
        "trusted": true
      },
      "outputs": [
        {
          "output_type": "stream",
          "name": "stdout",
          "text": [
            "Training the LSTM model...\n",
            "Epoch 1/100\n",
            "394/394 - 15s - 39ms/step - loss: 2626.4883 - root_mean_squared_error: 51.2493 - val_loss: 1838.8556 - val_root_mean_squared_error: 42.8819\n",
            "Epoch 2/100\n",
            "394/394 - 6s - 14ms/step - loss: 1767.0862 - root_mean_squared_error: 42.0367 - val_loss: 1848.3004 - val_root_mean_squared_error: 42.9919\n",
            "Epoch 3/100\n",
            "394/394 - 4s - 11ms/step - loss: 1752.0231 - root_mean_squared_error: 41.8572 - val_loss: 1847.9574 - val_root_mean_squared_error: 42.9879\n",
            "Epoch 4/100\n",
            "394/394 - 4s - 11ms/step - loss: 1766.7660 - root_mean_squared_error: 42.0329 - val_loss: 1842.2030 - val_root_mean_squared_error: 42.9209\n",
            "Epoch 5/100\n",
            "394/394 - 5s - 13ms/step - loss: 1633.3778 - root_mean_squared_error: 40.4151 - val_loss: 537.3954 - val_root_mean_squared_error: 23.1818\n",
            "Epoch 6/100\n",
            "394/394 - 4s - 11ms/step - loss: 380.2760 - root_mean_squared_error: 19.5007 - val_loss: 196.2254 - val_root_mean_squared_error: 14.0080\n",
            "Epoch 7/100\n",
            "394/394 - 5s - 12ms/step - loss: 259.9627 - root_mean_squared_error: 16.1234 - val_loss: 185.1008 - val_root_mean_squared_error: 13.6052\n",
            "Epoch 8/100\n",
            "394/394 - 5s - 12ms/step - loss: 244.0717 - root_mean_squared_error: 15.6228 - val_loss: 191.4573 - val_root_mean_squared_error: 13.8368\n",
            "Epoch 9/100\n",
            "394/394 - 4s - 11ms/step - loss: 234.5511 - root_mean_squared_error: 15.3151 - val_loss: 215.1122 - val_root_mean_squared_error: 14.6667\n",
            "Epoch 10/100\n",
            "394/394 - 5s - 13ms/step - loss: 226.1724 - root_mean_squared_error: 15.0390 - val_loss: 200.5300 - val_root_mean_squared_error: 14.1609\n",
            "Epoch 11/100\n",
            "394/394 - 4s - 11ms/step - loss: 215.6872 - root_mean_squared_error: 14.6863 - val_loss: 166.0730 - val_root_mean_squared_error: 12.8869\n",
            "Epoch 12/100\n",
            "394/394 - 4s - 11ms/step - loss: 204.0861 - root_mean_squared_error: 14.2859 - val_loss: 182.7035 - val_root_mean_squared_error: 13.5168\n",
            "Epoch 13/100\n",
            "394/394 - 5s - 14ms/step - loss: 204.3240 - root_mean_squared_error: 14.2942 - val_loss: 186.0714 - val_root_mean_squared_error: 13.6408\n",
            "Epoch 14/100\n",
            "394/394 - 5s - 12ms/step - loss: 194.9582 - root_mean_squared_error: 13.9627 - val_loss: 164.0706 - val_root_mean_squared_error: 12.8090\n",
            "Epoch 15/100\n",
            "394/394 - 5s - 13ms/step - loss: 185.5387 - root_mean_squared_error: 13.6213 - val_loss: 182.9007 - val_root_mean_squared_error: 13.5241\n",
            "Epoch 16/100\n",
            "394/394 - 5s - 12ms/step - loss: 182.4886 - root_mean_squared_error: 13.5088 - val_loss: 182.8637 - val_root_mean_squared_error: 13.5227\n",
            "Epoch 17/100\n",
            "394/394 - 5s - 12ms/step - loss: 179.1884 - root_mean_squared_error: 13.3861 - val_loss: 173.5486 - val_root_mean_squared_error: 13.1738\n",
            "Epoch 18/100\n",
            "394/394 - 5s - 13ms/step - loss: 175.8530 - root_mean_squared_error: 13.2610 - val_loss: 191.1153 - val_root_mean_squared_error: 13.8244\n",
            "Epoch 19/100\n",
            "394/394 - 4s - 11ms/step - loss: 171.1223 - root_mean_squared_error: 13.0814 - val_loss: 190.8047 - val_root_mean_squared_error: 13.8132\n",
            "Epoch 20/100\n",
            "394/394 - 5s - 13ms/step - loss: 164.2043 - root_mean_squared_error: 12.8142 - val_loss: 209.3647 - val_root_mean_squared_error: 14.4694\n",
            "Epoch 21/100\n",
            "394/394 - 4s - 11ms/step - loss: 159.4769 - root_mean_squared_error: 12.6284 - val_loss: 192.9930 - val_root_mean_squared_error: 13.8922\n",
            "Epoch 22/100\n",
            "394/394 - 6s - 15ms/step - loss: 158.6213 - root_mean_squared_error: 12.5945 - val_loss: 179.4764 - val_root_mean_squared_error: 13.3969\n",
            "Epoch 23/100\n",
            "394/394 - 5s - 12ms/step - loss: 153.3118 - root_mean_squared_error: 12.3819 - val_loss: 205.5349 - val_root_mean_squared_error: 14.3365\n",
            "Epoch 24/100\n",
            "394/394 - 4s - 11ms/step - loss: 151.9834 - root_mean_squared_error: 12.3282 - val_loss: 179.6072 - val_root_mean_squared_error: 13.4018\n",
            "Training complete.\n"
          ]
        }
      ],
      "source": [
        "# Define the EarlyStopping callback\n",
        "# It will monitor the validation loss and stop training after 10 epochs of no improvement.\n",
        "early_stop = EarlyStopping(monitor='val_loss', patience=10, restore_best_weights=True)\n",
        "\n",
        "# Train the model and store the training history\n",
        "print(\"Training the LSTM model...\")\n",
        "history = lstm_model.fit(X_train_lstm, y_train_lstm,\n",
        "                         epochs=100,\n",
        "                         batch_size=32,\n",
        "                         validation_split=0.2,\n",
        "                         callbacks=[early_stop],\n",
        "                         verbose=2)\n",
        "\n",
        "print(\"Training complete.\")"
      ]
    },
    {
      "cell_type": "code",
      "execution_count": 13,
      "metadata": {
        "colab": {
          "base_uri": "https://localhost:8080/"
        },
        "id": "IsyxdmOSwVaa",
        "outputId": "a22b20e3-dc7d-4bb8-e60d-9ae143655bbf",
        "trusted": true
      },
      "outputs": [
        {
          "output_type": "stream",
          "name": "stdout",
          "text": [
            "\u001b[1m4/4\u001b[0m \u001b[32m━━━━━━━━━━━━━━━━━━━━\u001b[0m\u001b[37m\u001b[0m \u001b[1m0s\u001b[0m 78ms/step\n",
            "Predictions made on the test set using the LSTM model.\n"
          ]
        }
      ],
      "source": [
        "# Make predictions on the LSTM test set\n",
        "y_pred_lstm = lstm_model.predict(X_test_lstm)\n",
        "\n",
        "# The model outputs a 2D array, so we flatten it to a 1D array for evaluation\n",
        "y_pred_lstm = y_pred_lstm.flatten()\n",
        "\n",
        "print(\"Predictions made on the test set using the LSTM model.\")"
      ]
    },
    {
      "cell_type": "code",
      "execution_count": 14,
      "metadata": {
        "id": "fET9lVBHybN3"
      },
      "outputs": [],
      "source": [
        "def nasa_score(y_true, y_pred):\n",
        "    \"\"\"\n",
        "    Calculates the NASA C-MAPSS scoring function.\n",
        "\n",
        "    Args:\n",
        "        y_true (array-like): The actual RUL values.\n",
        "        y_pred (array-like): The predicted RUL values.\n",
        "\n",
        "    Returns:\n",
        "        float: The total score.\n",
        "    \"\"\"\n",
        "    score = 0\n",
        "    # Calculate the difference d for each prediction\n",
        "    d = y_pred - y_true\n",
        "\n",
        "    # Apply the asymmetric scoring function\n",
        "    for d_i in d:\n",
        "        if d_i < 0:\n",
        "            # Penalty for early predictions\n",
        "            score += np.exp(-d_i / 13.0) - 1\n",
        "        else:\n",
        "            # Heavier penalty for late predictions\n",
        "            score += np.exp(d_i / 10.0) - 1\n",
        "\n",
        "    return score\n",
        "\n",
        "# Calculate the NASA score on the validation set predictions"
      ]
    },
    {
      "cell_type": "code",
      "execution_count": 15,
      "metadata": {
        "colab": {
          "base_uri": "https://localhost:8080/"
        },
        "id": "BUe5EC00wVaa",
        "outputId": "43263fda-e0e7-478a-849b-85fd6ef0a330",
        "trusted": true
      },
      "outputs": [
        {
          "output_type": "stream",
          "name": "stdout",
          "text": [
            "LSTM Test RMSE: 16.73\n",
            "LSTM Test R-squared Score: 0.84\n",
            "LSTM Test NASA Score: 716.16\n"
          ]
        }
      ],
      "source": [
        "from sklearn.metrics import mean_squared_error, r2_score\n",
        "# --- Evaluate against the ORIGINAL, UNCLIPPED ground truth RUL values ---\n",
        "\n",
        "# Calculate the Root Mean Squared Error (RMSE)\n",
        "rmse_lstm = np.sqrt(mean_squared_error(y_test_lstm, y_pred_lstm))\n",
        "print(f\"LSTM Test RMSE: {rmse_lstm:.2f}\")\n",
        "\n",
        "# Calculate the R-squared (R2) Score\n",
        "r2_lstm = r2_score(y_test_lstm, y_pred_lstm)\n",
        "print(f\"LSTM Test R-squared Score: {r2_lstm:.2f}\")\n",
        "\n",
        "# Calculate the NASA score\n",
        "nasa_score_lstm = nasa_score(y_test_lstm, y_pred_lstm)\n",
        "print(f\"LSTM Test NASA Score: {nasa_score_lstm:.2f}\")"
      ]
    },
    {
      "cell_type": "code",
      "execution_count": 16,
      "metadata": {
        "colab": {
          "base_uri": "https://localhost:8080/"
        },
        "id": "MmaI89zszI2X",
        "outputId": "b411db49-d1e8-4ec9-e6ff-dbf84b7f3870"
      },
      "outputs": [
        {
          "output_type": "stream",
          "name": "stdout",
          "text": [
            "Accuracy (%): 83.78289341926575\n",
            "MAE: 11.592637062072754\n",
            "R2 Score: 0.8378289341926575\n"
          ]
        }
      ],
      "source": [
        "import numpy as np\n",
        "from sklearn.metrics import mean_absolute_error, r2_score\n",
        "\n",
        "mae = mean_absolute_error(y_test_lstm, y_pred_lstm)\n",
        "\n",
        "r2 = r2_score(y_test_lstm, y_pred_lstm)\n",
        "\n",
        "accuracy_percent = r2 * 100\n",
        "\n",
        "print(\"Accuracy (%):\", accuracy_percent)\n",
        "print(\"MAE:\", mae)\n",
        "print(\"R2 Score:\", r2)"
      ]
    },
    {
      "cell_type": "code",
      "execution_count": 17,
      "metadata": {
        "colab": {
          "base_uri": "https://localhost:8080/"
        },
        "id": "3HeSLQj9-74g",
        "outputId": "27ae128e-1d14-4c49-9d9c-e9cca33f7d5a"
      },
      "outputs": [
        {
          "output_type": "stream",
          "name": "stderr",
          "text": [
            "WARNING:absl:You are saving your model as an HDF5 file via `model.save()` or `keras.saving.save_model(model)`. This file format is considered legacy. We recommend using instead the native Keras format, e.g. `model.save('my_model.keras')` or `keras.saving.save_model(model, 'my_model.keras')`. \n"
          ]
        }
      ],
      "source": [
        "lstm_model.save(\"lstm_rul_model.h5\")"
      ]
    },
    {
      "cell_type": "code",
      "execution_count": 18,
      "metadata": {
        "colab": {
          "base_uri": "https://localhost:8080/"
        },
        "id": "MEwaLRFr-yqR",
        "outputId": "4c52be80-4830-476d-81ea-f628b52538ec"
      },
      "outputs": [
        {
          "output_type": "execute_result",
          "data": {
            "text/plain": [
              "['scaler.pkl']"
            ]
          },
          "metadata": {},
          "execution_count": 18
        }
      ],
      "source": [
        "import joblib\n",
        "joblib.dump(scaler, \"scaler.pkl\")"
      ]
    },
    {
      "cell_type": "markdown",
      "metadata": {
        "id": "2s4WP7BAMuJn"
      },
      "source": [
        "# Deployment via Web Interface"
      ]
    },
    {
      "cell_type": "code",
      "execution_count": 19,
      "metadata": {
        "colab": {
          "base_uri": "https://localhost:8080/",
          "height": 440
        },
        "id": "hcRxt1E5e3Xz",
        "outputId": "e212b497-0651-4c35-f697-40c17c097630"
      },
      "outputs": [
        {
          "output_type": "stream",
          "name": "stderr",
          "text": [
            "/usr/local/lib/python3.12/dist-packages/keras/src/layers/rnn/rnn.py:199: UserWarning: Do not pass an `input_shape`/`input_dim` argument to a layer. When using Sequential models, prefer using an `Input(shape)` object as the first layer in the model instead.\n",
            "  super().__init__(**kwargs)\n"
          ]
        },
        {
          "output_type": "display_data",
          "data": {
            "text/plain": [
              "\u001b[1mModel: \"sequential_1\"\u001b[0m\n"
            ],
            "text/html": [
              "<pre style=\"white-space:pre;overflow-x:auto;line-height:normal;font-family:Menlo,'DejaVu Sans Mono',consolas,'Courier New',monospace\"><span style=\"font-weight: bold\">Model: \"sequential_1\"</span>\n",
              "</pre>\n"
            ]
          },
          "metadata": {}
        },
        {
          "output_type": "display_data",
          "data": {
            "text/plain": [
              "┏━━━━━━━━━━━━━━━━━━━━━━━━━━━━━━━━━┳━━━━━━━━━━━━━━━━━━━━━━━━┳━━━━━━━━━━━━━━━┓\n",
              "┃\u001b[1m \u001b[0m\u001b[1mLayer (type)                   \u001b[0m\u001b[1m \u001b[0m┃\u001b[1m \u001b[0m\u001b[1mOutput Shape          \u001b[0m\u001b[1m \u001b[0m┃\u001b[1m \u001b[0m\u001b[1m      Param #\u001b[0m\u001b[1m \u001b[0m┃\n",
              "┡━━━━━━━━━━━━━━━━━━━━━━━━━━━━━━━━━╇━━━━━━━━━━━━━━━━━━━━━━━━╇━━━━━━━━━━━━━━━┩\n",
              "│ gru (\u001b[38;5;33mGRU\u001b[0m)                       │ (\u001b[38;5;45mNone\u001b[0m, \u001b[38;5;34m50\u001b[0m, \u001b[38;5;34m128\u001b[0m)        │        \u001b[38;5;34m56,448\u001b[0m │\n",
              "├─────────────────────────────────┼────────────────────────┼───────────────┤\n",
              "│ dropout_3 (\u001b[38;5;33mDropout\u001b[0m)             │ (\u001b[38;5;45mNone\u001b[0m, \u001b[38;5;34m50\u001b[0m, \u001b[38;5;34m128\u001b[0m)        │             \u001b[38;5;34m0\u001b[0m │\n",
              "├─────────────────────────────────┼────────────────────────┼───────────────┤\n",
              "│ gru_1 (\u001b[38;5;33mGRU\u001b[0m)                     │ (\u001b[38;5;45mNone\u001b[0m, \u001b[38;5;34m50\u001b[0m, \u001b[38;5;34m64\u001b[0m)         │        \u001b[38;5;34m37,248\u001b[0m │\n",
              "├─────────────────────────────────┼────────────────────────┼───────────────┤\n",
              "│ dropout_4 (\u001b[38;5;33mDropout\u001b[0m)             │ (\u001b[38;5;45mNone\u001b[0m, \u001b[38;5;34m50\u001b[0m, \u001b[38;5;34m64\u001b[0m)         │             \u001b[38;5;34m0\u001b[0m │\n",
              "├─────────────────────────────────┼────────────────────────┼───────────────┤\n",
              "│ gru_2 (\u001b[38;5;33mGRU\u001b[0m)                     │ (\u001b[38;5;45mNone\u001b[0m, \u001b[38;5;34m32\u001b[0m)             │         \u001b[38;5;34m9,408\u001b[0m │\n",
              "├─────────────────────────────────┼────────────────────────┼───────────────┤\n",
              "│ dropout_5 (\u001b[38;5;33mDropout\u001b[0m)             │ (\u001b[38;5;45mNone\u001b[0m, \u001b[38;5;34m32\u001b[0m)             │             \u001b[38;5;34m0\u001b[0m │\n",
              "├─────────────────────────────────┼────────────────────────┼───────────────┤\n",
              "│ dense_2 (\u001b[38;5;33mDense\u001b[0m)                 │ (\u001b[38;5;45mNone\u001b[0m, \u001b[38;5;34m64\u001b[0m)             │         \u001b[38;5;34m2,112\u001b[0m │\n",
              "├─────────────────────────────────┼────────────────────────┼───────────────┤\n",
              "│ dense_3 (\u001b[38;5;33mDense\u001b[0m)                 │ (\u001b[38;5;45mNone\u001b[0m, \u001b[38;5;34m1\u001b[0m)              │            \u001b[38;5;34m65\u001b[0m │\n",
              "└─────────────────────────────────┴────────────────────────┴───────────────┘\n"
            ],
            "text/html": [
              "<pre style=\"white-space:pre;overflow-x:auto;line-height:normal;font-family:Menlo,'DejaVu Sans Mono',consolas,'Courier New',monospace\">┏━━━━━━━━━━━━━━━━━━━━━━━━━━━━━━━━━┳━━━━━━━━━━━━━━━━━━━━━━━━┳━━━━━━━━━━━━━━━┓\n",
              "┃<span style=\"font-weight: bold\"> Layer (type)                    </span>┃<span style=\"font-weight: bold\"> Output Shape           </span>┃<span style=\"font-weight: bold\">       Param # </span>┃\n",
              "┡━━━━━━━━━━━━━━━━━━━━━━━━━━━━━━━━━╇━━━━━━━━━━━━━━━━━━━━━━━━╇━━━━━━━━━━━━━━━┩\n",
              "│ gru (<span style=\"color: #0087ff; text-decoration-color: #0087ff\">GRU</span>)                       │ (<span style=\"color: #00d7ff; text-decoration-color: #00d7ff\">None</span>, <span style=\"color: #00af00; text-decoration-color: #00af00\">50</span>, <span style=\"color: #00af00; text-decoration-color: #00af00\">128</span>)        │        <span style=\"color: #00af00; text-decoration-color: #00af00\">56,448</span> │\n",
              "├─────────────────────────────────┼────────────────────────┼───────────────┤\n",
              "│ dropout_3 (<span style=\"color: #0087ff; text-decoration-color: #0087ff\">Dropout</span>)             │ (<span style=\"color: #00d7ff; text-decoration-color: #00d7ff\">None</span>, <span style=\"color: #00af00; text-decoration-color: #00af00\">50</span>, <span style=\"color: #00af00; text-decoration-color: #00af00\">128</span>)        │             <span style=\"color: #00af00; text-decoration-color: #00af00\">0</span> │\n",
              "├─────────────────────────────────┼────────────────────────┼───────────────┤\n",
              "│ gru_1 (<span style=\"color: #0087ff; text-decoration-color: #0087ff\">GRU</span>)                     │ (<span style=\"color: #00d7ff; text-decoration-color: #00d7ff\">None</span>, <span style=\"color: #00af00; text-decoration-color: #00af00\">50</span>, <span style=\"color: #00af00; text-decoration-color: #00af00\">64</span>)         │        <span style=\"color: #00af00; text-decoration-color: #00af00\">37,248</span> │\n",
              "├─────────────────────────────────┼────────────────────────┼───────────────┤\n",
              "│ dropout_4 (<span style=\"color: #0087ff; text-decoration-color: #0087ff\">Dropout</span>)             │ (<span style=\"color: #00d7ff; text-decoration-color: #00d7ff\">None</span>, <span style=\"color: #00af00; text-decoration-color: #00af00\">50</span>, <span style=\"color: #00af00; text-decoration-color: #00af00\">64</span>)         │             <span style=\"color: #00af00; text-decoration-color: #00af00\">0</span> │\n",
              "├─────────────────────────────────┼────────────────────────┼───────────────┤\n",
              "│ gru_2 (<span style=\"color: #0087ff; text-decoration-color: #0087ff\">GRU</span>)                     │ (<span style=\"color: #00d7ff; text-decoration-color: #00d7ff\">None</span>, <span style=\"color: #00af00; text-decoration-color: #00af00\">32</span>)             │         <span style=\"color: #00af00; text-decoration-color: #00af00\">9,408</span> │\n",
              "├─────────────────────────────────┼────────────────────────┼───────────────┤\n",
              "│ dropout_5 (<span style=\"color: #0087ff; text-decoration-color: #0087ff\">Dropout</span>)             │ (<span style=\"color: #00d7ff; text-decoration-color: #00d7ff\">None</span>, <span style=\"color: #00af00; text-decoration-color: #00af00\">32</span>)             │             <span style=\"color: #00af00; text-decoration-color: #00af00\">0</span> │\n",
              "├─────────────────────────────────┼────────────────────────┼───────────────┤\n",
              "│ dense_2 (<span style=\"color: #0087ff; text-decoration-color: #0087ff\">Dense</span>)                 │ (<span style=\"color: #00d7ff; text-decoration-color: #00d7ff\">None</span>, <span style=\"color: #00af00; text-decoration-color: #00af00\">64</span>)             │         <span style=\"color: #00af00; text-decoration-color: #00af00\">2,112</span> │\n",
              "├─────────────────────────────────┼────────────────────────┼───────────────┤\n",
              "│ dense_3 (<span style=\"color: #0087ff; text-decoration-color: #0087ff\">Dense</span>)                 │ (<span style=\"color: #00d7ff; text-decoration-color: #00d7ff\">None</span>, <span style=\"color: #00af00; text-decoration-color: #00af00\">1</span>)              │            <span style=\"color: #00af00; text-decoration-color: #00af00\">65</span> │\n",
              "└─────────────────────────────────┴────────────────────────┴───────────────┘\n",
              "</pre>\n"
            ]
          },
          "metadata": {}
        },
        {
          "output_type": "display_data",
          "data": {
            "text/plain": [
              "\u001b[1m Total params: \u001b[0m\u001b[38;5;34m105,281\u001b[0m (411.25 KB)\n"
            ],
            "text/html": [
              "<pre style=\"white-space:pre;overflow-x:auto;line-height:normal;font-family:Menlo,'DejaVu Sans Mono',consolas,'Courier New',monospace\"><span style=\"font-weight: bold\"> Total params: </span><span style=\"color: #00af00; text-decoration-color: #00af00\">105,281</span> (411.25 KB)\n",
              "</pre>\n"
            ]
          },
          "metadata": {}
        },
        {
          "output_type": "display_data",
          "data": {
            "text/plain": [
              "\u001b[1m Trainable params: \u001b[0m\u001b[38;5;34m105,281\u001b[0m (411.25 KB)\n"
            ],
            "text/html": [
              "<pre style=\"white-space:pre;overflow-x:auto;line-height:normal;font-family:Menlo,'DejaVu Sans Mono',consolas,'Courier New',monospace\"><span style=\"font-weight: bold\"> Trainable params: </span><span style=\"color: #00af00; text-decoration-color: #00af00\">105,281</span> (411.25 KB)\n",
              "</pre>\n"
            ]
          },
          "metadata": {}
        },
        {
          "output_type": "display_data",
          "data": {
            "text/plain": [
              "\u001b[1m Non-trainable params: \u001b[0m\u001b[38;5;34m0\u001b[0m (0.00 B)\n"
            ],
            "text/html": [
              "<pre style=\"white-space:pre;overflow-x:auto;line-height:normal;font-family:Menlo,'DejaVu Sans Mono',consolas,'Courier New',monospace\"><span style=\"font-weight: bold\"> Non-trainable params: </span><span style=\"color: #00af00; text-decoration-color: #00af00\">0</span> (0.00 B)\n",
              "</pre>\n"
            ]
          },
          "metadata": {}
        }
      ],
      "source": [
        "from tensorflow.keras.layers import GRU\n",
        "from tensorflow.keras.models import Sequential\n",
        "from tensorflow.keras.layers import Input, Dense, Dropout\n",
        "\n",
        "gru_input_shape = (X_train_lstm.shape[1], X_train_lstm.shape[2])\n",
        "\n",
        "gru_model = Sequential()\n",
        "gru_model.add(GRU(128, return_sequences=True, input_shape=gru_input_shape))\n",
        "gru_model.add(Dropout(0.3))\n",
        "gru_model.add(GRU(64, return_sequences=True, activation='tanh'))\n",
        "gru_model.add(Dropout(0.3))\n",
        "gru_model.add(GRU(units=32, activation='tanh'))\n",
        "gru_model.add(Dropout(0.3))\n",
        "gru_model.add(Dense(64, activation='relu'))\n",
        "gru_model.add(Dense(1))\n",
        "\n",
        "gru_model.summary()"
      ]
    },
    {
      "cell_type": "code",
      "execution_count": 20,
      "metadata": {
        "id": "81ogBd6Oe3Xz"
      },
      "outputs": [],
      "source": [
        "gru_model.compile(optimizer='adam',\n",
        "                  loss='mean_squared_error',\n",
        "                  metrics=[tf.keras.metrics.RootMeanSquaredError()])"
      ]
    },
    {
      "cell_type": "code",
      "execution_count": 21,
      "metadata": {
        "colab": {
          "base_uri": "https://localhost:8080/"
        },
        "id": "uodDk_Gge3Xz",
        "outputId": "10ba824e-ffe7-4b22-d1dc-e41cb73eb871"
      },
      "outputs": [
        {
          "output_type": "stream",
          "name": "stdout",
          "text": [
            "Training the GRU model...\n",
            "Epoch 1/100\n",
            "394/394 - 8s - 20ms/step - loss: 2660.5630 - root_mean_squared_error: 51.5806 - val_loss: 1841.0085 - val_root_mean_squared_error: 42.9070\n",
            "Epoch 2/100\n",
            "394/394 - 5s - 11ms/step - loss: 1758.8544 - root_mean_squared_error: 41.9387 - val_loss: 1846.3339 - val_root_mean_squared_error: 42.9690\n",
            "Epoch 3/100\n",
            "394/394 - 5s - 13ms/step - loss: 1767.9949 - root_mean_squared_error: 42.0475 - val_loss: 1850.0092 - val_root_mean_squared_error: 43.0117\n",
            "Epoch 4/100\n",
            "394/394 - 4s - 11ms/step - loss: 841.8539 - root_mean_squared_error: 29.0147 - val_loss: 216.6691 - val_root_mean_squared_error: 14.7197\n",
            "Epoch 5/100\n",
            "394/394 - 5s - 12ms/step - loss: 265.1543 - root_mean_squared_error: 16.2836 - val_loss: 152.2845 - val_root_mean_squared_error: 12.3404\n",
            "Epoch 6/100\n",
            "394/394 - 4s - 11ms/step - loss: 230.4306 - root_mean_squared_error: 15.1799 - val_loss: 146.9949 - val_root_mean_squared_error: 12.1241\n",
            "Epoch 7/100\n",
            "394/394 - 4s - 11ms/step - loss: 222.7382 - root_mean_squared_error: 14.9244 - val_loss: 168.5179 - val_root_mean_squared_error: 12.9814\n",
            "Epoch 8/100\n",
            "394/394 - 5s - 12ms/step - loss: 212.4711 - root_mean_squared_error: 14.5764 - val_loss: 161.2719 - val_root_mean_squared_error: 12.6993\n",
            "Epoch 9/100\n",
            "394/394 - 4s - 11ms/step - loss: 206.3272 - root_mean_squared_error: 14.3641 - val_loss: 159.7079 - val_root_mean_squared_error: 12.6376\n",
            "Epoch 10/100\n",
            "394/394 - 4s - 11ms/step - loss: 192.5552 - root_mean_squared_error: 13.8764 - val_loss: 170.5451 - val_root_mean_squared_error: 13.0593\n",
            "Epoch 11/100\n",
            "394/394 - 5s - 13ms/step - loss: 189.6260 - root_mean_squared_error: 13.7705 - val_loss: 169.2893 - val_root_mean_squared_error: 13.0111\n",
            "Epoch 12/100\n",
            "394/394 - 4s - 11ms/step - loss: 179.6475 - root_mean_squared_error: 13.4033 - val_loss: 166.6529 - val_root_mean_squared_error: 12.9094\n",
            "Epoch 13/100\n",
            "394/394 - 5s - 13ms/step - loss: 176.6370 - root_mean_squared_error: 13.2905 - val_loss: 154.5271 - val_root_mean_squared_error: 12.4309\n",
            "Epoch 14/100\n",
            "394/394 - 4s - 11ms/step - loss: 172.3411 - root_mean_squared_error: 13.1279 - val_loss: 195.7201 - val_root_mean_squared_error: 13.9900\n",
            "Epoch 15/100\n",
            "394/394 - 4s - 11ms/step - loss: 160.0236 - root_mean_squared_error: 12.6500 - val_loss: 175.2113 - val_root_mean_squared_error: 13.2367\n",
            "Epoch 16/100\n",
            "394/394 - 5s - 13ms/step - loss: 154.1331 - root_mean_squared_error: 12.4150 - val_loss: 165.5984 - val_root_mean_squared_error: 12.8685\n",
            "GRU model training complete.\n"
          ]
        }
      ],
      "source": [
        "print(\"Training the GRU model...\")\n",
        "gru_history = gru_model.fit(X_train_lstm, y_train_lstm,\n",
        "                           epochs=100,\n",
        "                           batch_size=32,\n",
        "                           validation_split=0.2,\n",
        "                           callbacks=[early_stop],\n",
        "                           verbose=2)\n",
        "print(\"GRU model training complete.\")"
      ]
    },
    {
      "cell_type": "code",
      "execution_count": 22,
      "metadata": {
        "colab": {
          "base_uri": "https://localhost:8080/"
        },
        "id": "RE4IW42Ke3Xz",
        "outputId": "663a0013-862f-4109-f3ab-adf99912c533"
      },
      "outputs": [
        {
          "output_type": "stream",
          "name": "stdout",
          "text": [
            "\u001b[1m4/4\u001b[0m \u001b[32m━━━━━━━━━━━━━━━━━━━━\u001b[0m\u001b[37m\u001b[0m \u001b[1m0s\u001b[0m 66ms/step\n",
            "Predictions made on the test set using the GRU model.\n"
          ]
        }
      ],
      "source": [
        "y_pred_gru = gru_model.predict(X_test_lstm)\n",
        "y_pred_gru = y_pred_gru.flatten()\n",
        "print(\"Predictions made on the test set using the GRU model.\")"
      ]
    },
    {
      "cell_type": "code",
      "execution_count": 23,
      "metadata": {
        "colab": {
          "base_uri": "https://localhost:8080/"
        },
        "id": "mvTeMsSqe3X0",
        "outputId": "b8d3db71-fc23-45d8-f21b-3aaa9be6bfaf"
      },
      "outputs": [
        {
          "output_type": "stream",
          "name": "stdout",
          "text": [
            "GRU Test RMSE: 13.80\n",
            "GRU Test R-squared Score: 0.89\n",
            "GRU Test NASA Score: 299.28\n",
            "GRU Accuracy (%): 88.9777421951294\n",
            "GRU MAE: 10.328668594360352\n",
            "GRU R2 Score: 0.889777421951294\n"
          ]
        }
      ],
      "source": [
        "rmse_gru = np.sqrt(mean_squared_error(y_test_lstm, y_pred_gru))\n",
        "print(f\"GRU Test RMSE: {rmse_gru:.2f}\")\n",
        "\n",
        "r2_gru = r2_score(y_test_lstm, y_pred_gru)\n",
        "print(f\"GRU Test R-squared Score: {r2_gru:.2f}\")\n",
        "\n",
        "nasa_score_gru = nasa_score(y_test_lstm, y_pred_gru)\n",
        "print(f\"GRU Test NASA Score: {nasa_score_gru:.2f}\")\n",
        "\n",
        "mae_gru = mean_absolute_error(y_test_lstm, y_pred_gru)\n",
        "accuracy_percent_gru = r2_gru * 100\n",
        "print(\"GRU Accuracy (%):\", accuracy_percent_gru)\n",
        "print(\"GRU MAE:\", mae_gru)\n",
        "print(\"GRU R2 Score:\", r2_gru)"
      ]
    },
    {
      "cell_type": "code",
      "execution_count": 24,
      "metadata": {
        "colab": {
          "base_uri": "https://localhost:8080/"
        },
        "id": "oNZ4Zb0qe3X0",
        "outputId": "fa8728ca-16d7-42e9-df92-714092ec9da4"
      },
      "outputs": [
        {
          "output_type": "stream",
          "name": "stderr",
          "text": [
            "WARNING:absl:You are saving your model as an HDF5 file via `model.save()` or `keras.saving.save_model(model)`. This file format is considered legacy. We recommend using instead the native Keras format, e.g. `model.save('my_model.keras')` or `keras.saving.save_model(model, 'my_model.keras')`. \n"
          ]
        },
        {
          "output_type": "execute_result",
          "data": {
            "text/plain": [
              "['scaler_gru.pkl']"
            ]
          },
          "metadata": {},
          "execution_count": 24
        }
      ],
      "source": [
        "gru_model.save(\"gru_rul_model.h5\")\n",
        "joblib.dump(scaler, \"scaler_gru.pkl\")"
      ]
    }
  ],
  "metadata": {
    "colab": {
      "collapsed_sections": [
        "66vJ-c88tzcZ",
        "Xogth1p1wbZg",
        "nUP5fvwJuJax",
        "gZdWGNoPxPQQ",
        "Q5AAjOuEyv7h",
        "5dozGSpRyo5w"
      ],
      "provenance": [],
      "gpuType": "T4"
    },
    "kaggle": {
      "accelerator": "none",
      "dataSources": [
        {
          "datasetId": 276801,
          "sourceId": 572434,
          "sourceType": "datasetVersion"
        }
      ],
      "dockerImageVersionId": 31089,
      "isGpuEnabled": false,
      "isInternetEnabled": false,
      "language": "python",
      "sourceType": "notebook"
    },
    "kernelspec": {
      "display_name": "Python 3",
      "name": "python3"
    },
    "language_info": {
      "codemirror_mode": {
        "name": "ipython",
        "version": 3
      },
      "file_extension": ".py",
      "mimetype": "text/x-python",
      "name": "python",
      "nbconvert_exporter": "python",
      "pygments_lexer": "ipython3",
      "version": "3.11.13"
    },
    "accelerator": "GPU"
  },
  "nbformat": 4,
  "nbformat_minor": 0
}